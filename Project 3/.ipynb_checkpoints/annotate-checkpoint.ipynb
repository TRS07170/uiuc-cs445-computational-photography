{
 "cells": [
  {
   "cell_type": "code",
   "execution_count": 1,
   "id": "e6913be9-f254-4609-b851-15ef0be00bea",
   "metadata": {},
   "outputs": [],
   "source": [
    "import cv2"
   ]
  },
  {
   "cell_type": "code",
   "execution_count": 2,
   "id": "0cac3e49-b920-46ee-b8b2-18dd0a212b85",
   "metadata": {},
   "outputs": [],
   "source": [
    "xs, ys, image = None, None, None"
   ]
  },
  {
   "cell_type": "code",
   "execution_count": 3,
   "id": "887ec9b1-a8c0-402f-96d8-29a662932863",
   "metadata": {},
   "outputs": [],
   "source": [
    "def onclick(event, x, y, flags, param):\n",
    "    global xs, ys\n",
    "    \n",
    "    if event == cv2.EVENT_LBUTTONDOWN:\n",
    "        xs.append(x)\n",
    "        ys.append(y)\n",
    "        font = cv2.FONT_HERSHEY_SIMPLEX\n",
    "        image = cv2.circle(image, (x,y), 3, (0,0,255), -1)\n",
    "        cv2.imshow('image', image)"
   ]
  },
  {
   "cell_type": "code",
   "execution_count": 4,
   "id": "78e8c011-2815-4f59-be2f-838adffa1dda",
   "metadata": {},
   "outputs": [
    {
     "ename": "UnboundLocalError",
     "evalue": "local variable 'image' referenced before assignment",
     "output_type": "error",
     "traceback": [
      "\u001b[0;31m---------------------------------------------------------------------------\u001b[0m",
      "\u001b[0;31mUnboundLocalError\u001b[0m                         Traceback (most recent call last)",
      "Cell \u001b[0;32mIn[3], line 8\u001b[0m, in \u001b[0;36monclick\u001b[0;34m(event, x, y, flags, param)\u001b[0m\n\u001b[1;32m      6\u001b[0m ys\u001b[38;5;241m.\u001b[39mappend(y)\n\u001b[1;32m      7\u001b[0m font \u001b[38;5;241m=\u001b[39m cv2\u001b[38;5;241m.\u001b[39mFONT_HERSHEY_SIMPLEX\n\u001b[0;32m----> 8\u001b[0m image \u001b[38;5;241m=\u001b[39m cv2\u001b[38;5;241m.\u001b[39mcircle(\u001b[43mimage\u001b[49m, (x,y), \u001b[38;5;241m3\u001b[39m, (\u001b[38;5;241m0\u001b[39m,\u001b[38;5;241m0\u001b[39m,\u001b[38;5;241m255\u001b[39m), \u001b[38;5;241m-\u001b[39m\u001b[38;5;241m1\u001b[39m)\n\u001b[1;32m      9\u001b[0m cv2\u001b[38;5;241m.\u001b[39mimshow(\u001b[38;5;124m'\u001b[39m\u001b[38;5;124mimage\u001b[39m\u001b[38;5;124m'\u001b[39m, image)\n",
      "\u001b[0;31mUnboundLocalError\u001b[0m: local variable 'image' referenced before assignment"
     ]
    }
   ],
   "source": [
    "xs, ys = [], []\n",
    "image = cv2.imread(\"./samples/penguin-chick.jpeg\")\n",
    "cv2.imshow('image', image)\n",
    "cv2.setMouseCallback('image', onclick)\n",
    "cv2.waitKey(0)\n",
    "cv2.destroyAllWindows()"
   ]
  },
  {
   "cell_type": "code",
   "execution_count": null,
   "id": "686aece7-4bd1-4e0a-997f-28fda728b200",
   "metadata": {},
   "outputs": [],
   "source": []
  }
 ],
 "metadata": {
  "kernelspec": {
   "display_name": "test",
   "language": "python",
   "name": "test"
  },
  "language_info": {
   "codemirror_mode": {
    "name": "ipython",
    "version": 3
   },
   "file_extension": ".py",
   "mimetype": "text/x-python",
   "name": "python",
   "nbconvert_exporter": "python",
   "pygments_lexer": "ipython3",
   "version": "3.10.12"
  }
 },
 "nbformat": 4,
 "nbformat_minor": 5
}
