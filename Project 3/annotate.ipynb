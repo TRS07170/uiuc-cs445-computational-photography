{
 "cells": [
  {
   "cell_type": "code",
   "execution_count": 1,
   "id": "e6913be9-f254-4609-b851-15ef0be00bea",
   "metadata": {},
   "outputs": [],
   "source": [
    "import cv2"
   ]
  },
  {
   "cell_type": "code",
   "execution_count": 5,
   "id": "0cac3e49-b920-46ee-b8b2-18dd0a212b85",
   "metadata": {},
   "outputs": [],
   "source": [
    "xs, ys, image = None, None, None"
   ]
  },
  {
   "cell_type": "code",
   "execution_count": 6,
   "id": "887ec9b1-a8c0-402f-96d8-29a662932863",
   "metadata": {},
   "outputs": [],
   "source": [
    "def onclick(event, x, y, flags, param):\n",
    "    global xs, ys, image\n",
    "    \n",
    "    if event == cv2.EVENT_LBUTTONDOWN:\n",
    "        xs.append(x)\n",
    "        ys.append(y)\n",
    "        font = cv2.FONT_HERSHEY_SIMPLEX\n",
    "        image = cv2.circle(image, (x,y), 3, (0,0,255), -1)\n",
    "        cv2.imshow('image', image)"
   ]
  },
  {
   "cell_type": "code",
   "execution_count": 35,
   "id": "78e8c011-2815-4f59-be2f-838adffa1dda",
   "metadata": {},
   "outputs": [],
   "source": [
    "xs, ys = [], []\n",
    "image = cv2.imread(\"./samples/dophin.png\")\n",
    "cv2.imshow('image', image)\n",
    "cv2.setMouseCallback('image', onclick)\n",
    "cv2.waitKey(0)\n",
    "cv2.destroyAllWindows()"
   ]
  },
  {
   "cell_type": "code",
   "execution_count": 36,
   "id": "686aece7-4bd1-4e0a-997f-28fda728b200",
   "metadata": {},
   "outputs": [
    {
     "name": "stdout",
     "output_type": "stream",
     "text": [
      "[60, 46, 27, 19, 4, 4, 25, 53, 60, 81, 97, 128, 130, 118, 113, 104, 101, 107, 127, 114, 124, 140, 136, 117, 89]\n"
     ]
    }
   ],
   "source": [
    "print(xs)"
   ]
  },
  {
   "cell_type": "code",
   "execution_count": 37,
   "id": "68bac87d-957d-4aaf-84b2-1033f3666f11",
   "metadata": {},
   "outputs": [
    {
     "name": "stdout",
     "output_type": "stream",
     "text": [
      "[8, 21, 47, 59, 72, 85, 97, 130, 151, 164, 176, 175, 166, 161, 143, 115, 98, 79, 78, 51, 38, 25, 9, 5, 2]\n"
     ]
    }
   ],
   "source": [
    "print(ys)"
   ]
  },
  {
   "cell_type": "code",
   "execution_count": null,
   "id": "4bf83549-ad19-49fd-add4-9fdda18bedde",
   "metadata": {},
   "outputs": [],
   "source": []
  }
 ],
 "metadata": {
  "kernelspec": {
   "display_name": "test",
   "language": "python",
   "name": "test"
  },
  "language_info": {
   "codemirror_mode": {
    "name": "ipython",
    "version": 3
   },
   "file_extension": ".py",
   "mimetype": "text/x-python",
   "name": "python",
   "nbconvert_exporter": "python",
   "pygments_lexer": "ipython3",
   "version": "3.10.12"
  }
 },
 "nbformat": 4,
 "nbformat_minor": 5
}
