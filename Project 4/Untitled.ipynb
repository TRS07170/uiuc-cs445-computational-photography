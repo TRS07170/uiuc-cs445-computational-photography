{
 "cells": [
  {
   "cell_type": "code",
   "execution_count": 1,
   "id": "a3368ff0-95c8-49e5-bb3b-305b6b8f8090",
   "metadata": {},
   "outputs": [],
   "source": [
    "import numpy as np"
   ]
  },
  {
   "cell_type": "code",
   "execution_count": 37,
   "id": "1407ca6c-790b-4933-8dbb-2e256201604d",
   "metadata": {},
   "outputs": [],
   "source": [
    "a = np.random.rand(4, 5, 6, 3)"
   ]
  },
  {
   "cell_type": "code",
   "execution_count": 38,
   "id": "ba07ef51-63d4-4e21-9dad-ff9d5682d06d",
   "metadata": {},
   "outputs": [
    {
     "data": {
      "text/plain": [
       "(4, 5, 6)"
      ]
     },
     "execution_count": 38,
     "metadata": {},
     "output_type": "execute_result"
    }
   ],
   "source": [
    "a[:,:,:,0].shape"
   ]
  },
  {
   "cell_type": "code",
   "execution_count": null,
   "id": "e334de61-2df2-40ff-a825-4191946c73bc",
   "metadata": {},
   "outputs": [],
   "source": []
  }
 ],
 "metadata": {
  "kernelspec": {
   "display_name": "test",
   "language": "python",
   "name": "test"
  },
  "language_info": {
   "codemirror_mode": {
    "name": "ipython",
    "version": 3
   },
   "file_extension": ".py",
   "mimetype": "text/x-python",
   "name": "python",
   "nbconvert_exporter": "python",
   "pygments_lexer": "ipython3",
   "version": "3.10.12"
  }
 },
 "nbformat": 4,
 "nbformat_minor": 5
}
